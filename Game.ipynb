{
 "cells": [
  {
   "cell_type": "code",
   "execution_count": 8,
   "metadata": {},
   "outputs": [],
   "source": [
    "import random\n",
    "import math"
   ]
  },
  {
   "cell_type": "code",
   "execution_count": 2,
   "metadata": {},
   "outputs": [],
   "source": [
    "harita = []\n",
    "for i in range(10):\n",
    "    harita.append(['O']*10)\n"
   ]
  },
  {
   "cell_type": "code",
   "execution_count": 3,
   "metadata": {},
   "outputs": [],
   "source": [
    "x = 0\n",
    "y = 0"
   ]
  },
  {
   "cell_type": "code",
   "execution_count": 4,
   "metadata": {},
   "outputs": [],
   "source": [
    "hazine_x = random.randint(0,9)\n",
    "hazine_y = random.randint(0,9)"
   ]
  },
  {
   "cell_type": "code",
   "execution_count": 5,
   "metadata": {},
   "outputs": [],
   "source": [
    "while( hazine_x == 0 and hazine_y == 0):\n",
    "    hazine_x = random.randint(0,9)\n",
    "    hazine_y = random.randint(0,9)"
   ]
  },
  {
   "cell_type": "code",
   "execution_count": 6,
   "metadata": {},
   "outputs": [],
   "source": [
    "mayin_x = random.randint(0,9)\n",
    "mayin_y = random.randint(0,9)"
   ]
  },
  {
   "cell_type": "code",
   "execution_count": 7,
   "metadata": {},
   "outputs": [],
   "source": [
    "while(mayin_x == 0 and mayin_y == 0):\n",
    "    mayin_x = random.randint(0,9)\n",
    "    mayin_y = random.randint(0,9)\n",
    "    while(mayin_x == hazine_x and mayin_y == hazine_y):\n",
    "        mayin_x = random.randint(0,9)\n",
    "        mayin_y = random.randint(0,9)"
   ]
  },
  {
   "cell_type": "code",
   "execution_count": 15,
   "metadata": {},
   "outputs": [
    {
     "name": "stdout",
     "output_type": "stream",
     "text": [
      "X O O O O O O O O O \n",
      "O O O O O O O O O O \n",
      "O O O O O O O O O O \n",
      "O O O O O O O O O O \n",
      "O O O O O O O O O O \n",
      "O O O O O O O O O O \n",
      "O O O O O O O O O O \n",
      "O O O O O O O O O O \n",
      "O O O O O O O O O O \n",
      "O O O O O O O O O O \n",
      "|||||||||||||||||||||||||||||||||||||||\n",
      "X O O O O O O O O O \n",
      "O O O O O O O O O O \n",
      "O O O O O O O O O O \n",
      "O O O O O O O O O O \n",
      "O O O O O O O O O O \n",
      "O O O O O O O O O O \n",
      "O O O O O O O O O O \n",
      "O O O O O O O O O O \n",
      "O O O O O O O O O O \n",
      "O O O O O O O O O O \n",
      "|||||||||||||||||||||||||||||||||||||||\n",
      "X O O O O O O O O O \n",
      "O O O O O O O O O O \n",
      "O O O O O O O O O O \n",
      "O O O O O O O O O O \n",
      "O O O O O O O O O O \n",
      "O O O O O O O O O O \n",
      "O O O O O O O O O O \n",
      "O O O O O O O O O O \n",
      "O O O O O O O O O O \n",
      "O O O O O O O O O O \n",
      "|||||||||||||||||||||||||||||||||||||||\n",
      "X O O O O O O O O O \n",
      "O O O O O O O O O O \n",
      "O O O O O O O O O O \n",
      "O O O O O O O O O O \n",
      "O O O O O O O O O O \n",
      "O O O O O O O O O O \n",
      "O O O O O O O O O O \n",
      "O O O O O O O O O O \n",
      "O O O O O O O O O O \n",
      "O O O O O O O O O O \n",
      "|||||||||||||||||||||||||||||||||||||||\n"
     ]
    },
    {
     "ename": "KeyboardInterrupt",
     "evalue": "Interrupted by user",
     "output_type": "error",
     "traceback": [
      "\u001b[1;31m---------------------------------------------------------------------------\u001b[0m",
      "\u001b[1;31mKeyboardInterrupt\u001b[0m                         Traceback (most recent call last)",
      "Cell \u001b[1;32mIn [15], line 2\u001b[0m\n\u001b[0;32m      1\u001b[0m \u001b[39mwhile\u001b[39;00m(\u001b[39mTrue\u001b[39;00m):\n\u001b[1;32m----> 2\u001b[0m     choice \u001b[39m=\u001b[39m \u001b[39minput\u001b[39;49m(\u001b[39m\"\u001b[39;49m\u001b[39mYönü giriniz: \u001b[39;49m\u001b[39m\"\u001b[39;49m)\n\u001b[0;32m      3\u001b[0m     \u001b[39mif\u001b[39;00m(choice \u001b[39m==\u001b[39m \u001b[39m\"\u001b[39m\u001b[39mw\u001b[39m\u001b[39m\"\u001b[39m \u001b[39mand\u001b[39;00m y \u001b[39m>\u001b[39m \u001b[39m0\u001b[39m):\n\u001b[0;32m      4\u001b[0m         y \u001b[39m-\u001b[39m\u001b[39m=\u001b[39m \u001b[39m1\u001b[39m\n",
      "File \u001b[1;32m~\\AppData\\Roaming\\Python\\Python38\\site-packages\\ipykernel\\kernelbase.py:1177\u001b[0m, in \u001b[0;36mKernel.raw_input\u001b[1;34m(self, prompt)\u001b[0m\n\u001b[0;32m   1173\u001b[0m \u001b[39mif\u001b[39;00m \u001b[39mnot\u001b[39;00m \u001b[39mself\u001b[39m\u001b[39m.\u001b[39m_allow_stdin:\n\u001b[0;32m   1174\u001b[0m     \u001b[39mraise\u001b[39;00m StdinNotImplementedError(\n\u001b[0;32m   1175\u001b[0m         \u001b[39m\"\u001b[39m\u001b[39mraw_input was called, but this frontend does not support input requests.\u001b[39m\u001b[39m\"\u001b[39m\n\u001b[0;32m   1176\u001b[0m     )\n\u001b[1;32m-> 1177\u001b[0m \u001b[39mreturn\u001b[39;00m \u001b[39mself\u001b[39;49m\u001b[39m.\u001b[39;49m_input_request(\n\u001b[0;32m   1178\u001b[0m     \u001b[39mstr\u001b[39;49m(prompt),\n\u001b[0;32m   1179\u001b[0m     \u001b[39mself\u001b[39;49m\u001b[39m.\u001b[39;49m_parent_ident[\u001b[39m\"\u001b[39;49m\u001b[39mshell\u001b[39;49m\u001b[39m\"\u001b[39;49m],\n\u001b[0;32m   1180\u001b[0m     \u001b[39mself\u001b[39;49m\u001b[39m.\u001b[39;49mget_parent(\u001b[39m\"\u001b[39;49m\u001b[39mshell\u001b[39;49m\u001b[39m\"\u001b[39;49m),\n\u001b[0;32m   1181\u001b[0m     password\u001b[39m=\u001b[39;49m\u001b[39mFalse\u001b[39;49;00m,\n\u001b[0;32m   1182\u001b[0m )\n",
      "File \u001b[1;32m~\\AppData\\Roaming\\Python\\Python38\\site-packages\\ipykernel\\kernelbase.py:1219\u001b[0m, in \u001b[0;36mKernel._input_request\u001b[1;34m(self, prompt, ident, parent, password)\u001b[0m\n\u001b[0;32m   1216\u001b[0m             \u001b[39mbreak\u001b[39;00m\n\u001b[0;32m   1217\u001b[0m \u001b[39mexcept\u001b[39;00m \u001b[39mKeyboardInterrupt\u001b[39;00m:\n\u001b[0;32m   1218\u001b[0m     \u001b[39m# re-raise KeyboardInterrupt, to truncate traceback\u001b[39;00m\n\u001b[1;32m-> 1219\u001b[0m     \u001b[39mraise\u001b[39;00m \u001b[39mKeyboardInterrupt\u001b[39;00m(\u001b[39m\"\u001b[39m\u001b[39mInterrupted by user\u001b[39m\u001b[39m\"\u001b[39m) \u001b[39mfrom\u001b[39;00m \u001b[39mNone\u001b[39m\n\u001b[0;32m   1220\u001b[0m \u001b[39mexcept\u001b[39;00m \u001b[39mException\u001b[39;00m:\n\u001b[0;32m   1221\u001b[0m     \u001b[39mself\u001b[39m\u001b[39m.\u001b[39mlog\u001b[39m.\u001b[39mwarning(\u001b[39m\"\u001b[39m\u001b[39mInvalid Message:\u001b[39m\u001b[39m\"\u001b[39m, exc_info\u001b[39m=\u001b[39m\u001b[39mTrue\u001b[39;00m)\n",
      "\u001b[1;31mKeyboardInterrupt\u001b[0m: Interrupted by user"
     ]
    }
   ],
   "source": [
    "while(True):\n",
    "    choice = input(\"Yönü giriniz: \")\n",
    "    if(choice == \"w\" and y > 0):\n",
    "        y -= 1\n",
    "    elif(choice == \"s\" and y < 9):\n",
    "        y += 1\n",
    "    elif(choice == \"a\" and x > 0):\n",
    "        x -= 1\n",
    "    elif(choice == \"d\" and x < 9):\n",
    "        x += 1\n",
    "    else:\n",
    "        print(\"Hatali giris yaptiniz!\")\n",
    "        continue\n",
    "\n",
    "    if(x == hazine_x and y == hazine_y):\n",
    "        print(\"Hazineyi buldunuz!\")\n",
    "        break\n",
    "\n",
    "    if(x == mayin_x and y == mayin_y):\n",
    "        print(\"Mayina bastiniz!\")\n",
    "        break\n",
    "    \n",
    "    if(abs(x-mayin_x) <= 5 and abs(y-mayin_y) <= 5):\n",
    "        print(\"Mayina yakindasiniz!\")\n",
    "        if(abs(x-mayin_x) == 1 and abs(y-mayin_y) == 0):\n",
    "            print(\"Mayina cok yakindasiniz!\")\n",
    "        elif(abs(x-mayin_x) == 0 and abs(y-mayin_y) == 1):\n",
    "            print(\"Mayina cok yakindasiniz!\")\n",
    "\n",
    "    harita_cizdir(harita, x, y)\n",
    "    print(\"|||||||||||||||||||||||||||||||||||||||\")"
   ]
  },
  {
   "cell_type": "code",
   "execution_count": 13,
   "metadata": {},
   "outputs": [],
   "source": [
    "def harita_cizdir(harita , x, y):\n",
    "    #deep copy of harita\n",
    "    harita_copy = []\n",
    "    for i in range(10):\n",
    "        harita_copy.append(harita[i][:])\n",
    "\n",
    "    harita_copy[y][x] = 'X'\n",
    "\n",
    "    for i in range(10):\n",
    "        for j in range(10):\n",
    "            print(harita_copy[i][j], end=' ')\n",
    "        print()\n",
    "    "
   ]
  },
  {
   "cell_type": "code",
   "execution_count": 16,
   "metadata": {},
   "outputs": [],
   "source": [
    "def toplama(a,b):\n",
    "    return a+b"
   ]
  },
  {
   "cell_type": "code",
   "execution_count": 20,
   "metadata": {},
   "outputs": [
    {
     "data": {
      "text/plain": [
       "751"
      ]
     },
     "execution_count": 20,
     "metadata": {},
     "output_type": "execute_result"
    }
   ],
   "source": [
    "toplama(20,731)"
   ]
  },
  {
   "cell_type": "code",
   "execution_count": 21,
   "metadata": {},
   "outputs": [],
   "source": [
    "def cikarma(a,b):\n",
    "    return a-b"
   ]
  },
  {
   "cell_type": "code",
   "execution_count": 22,
   "metadata": {},
   "outputs": [
    {
     "data": {
      "text/plain": [
       "10"
      ]
     },
     "execution_count": 22,
     "metadata": {},
     "output_type": "execute_result"
    }
   ],
   "source": [
    "cikarma(20,10)"
   ]
  },
  {
   "cell_type": "code",
   "execution_count": null,
   "metadata": {},
   "outputs": [],
   "source": []
  }
 ],
 "metadata": {
  "kernelspec": {
   "display_name": "Python 3",
   "language": "python",
   "name": "python3"
  },
  "language_info": {
   "codemirror_mode": {
    "name": "ipython",
    "version": 3
   },
   "file_extension": ".py",
   "mimetype": "text/x-python",
   "name": "python",
   "nbconvert_exporter": "python",
   "pygments_lexer": "ipython3",
   "version": "3.8.8rc1 (tags/v3.8.8rc1:dfd7d68, Feb 17 2021, 11:01:21) [MSC v.1928 64 bit (AMD64)]"
  },
  "orig_nbformat": 4,
  "vscode": {
   "interpreter": {
    "hash": "8a5edab282632443219e051e4ade2d1d5bbc671c781051bf1437897cbdfea0f1"
   }
  }
 },
 "nbformat": 4,
 "nbformat_minor": 2
}
